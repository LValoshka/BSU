{
 "cells": [
  {
   "cell_type": "markdown",
   "metadata": {},
   "source": [
    "# Рак Алексей. Курс 4. Группа 3.\n",
    "# Лабораторная работа № 3"
   ]
  },
  {
   "cell_type": "markdown",
   "metadata": {},
   "source": [
    "# Условие\n",
    "\n",
    "Вычислить интеграл:\n",
    "\n",
    "\\begin{gather}\n",
    "I = \\int\\limits_0^9 \\frac{\\cos^2 x}{1 + x^2} dx\n",
    "\\end{gather}\n",
    "\n",
    "используя простейший метод Монте-Карло и метод симметризации подынтегральной функции. Сравнить дисперсии этих оценок (с помощью аналитических выкладок)."
   ]
  },
  {
   "cell_type": "markdown",
   "metadata": {},
   "source": [
    "# Ход работы\n",
    "\n",
    "Будем моделировать базовую случайную величину мультипликативным конгруэнтным методом:\n",
    "\n",
    "$\\alpha_0^* = \\beta = 65539$\n",
    "\n",
    "$M = 2^{31}$\n",
    "\n",
    "$\\alpha_i^* = \\{\\beta \\alpha_{i - 1}^*\\} \\mod M$\n",
    "\n",
    "$\\alpha_i = \\alpha_i^* / M$\n",
    "\n",
    "Далее моделируем случайную величину из равномерного распределения методом обратной функции:\n",
    "\n",
    "$\\mathbb{U}(a, b) = \\frac{\\alpha_i}{b - a} + a$\n",
    "\n",
    "Далее используем простейший метод Монте-Карло, для этого моделируем случайную величину из равномерного распределения на отрезке от  $0$ до $9$. И находим значение функции $\\frac{\\cos^2 x}{1 + x^2}$ в смоделированной точке.\n",
    "\n",
    "Также используем метод симметризации подынтегральной функции. В этом случае опять используем  метод Монте-Карло, но в этом случае уже находим значение функции $\\frac{1}{2}\\left(\\frac{\\cos^2 x}{1 + x^2} + \\frac{\\cos^2 (9 - x)}{1 + (9 - x)^2}\\right)$"
   ]
  },
  {
   "cell_type": "markdown",
   "metadata": {},
   "source": [
    "# Программная реализация"
   ]
  },
  {
   "cell_type": "code",
   "execution_count": 99,
   "metadata": {},
   "outputs": [],
   "source": [
    "import numpy as np"
   ]
  },
  {
   "cell_type": "code",
   "execution_count": 105,
   "metadata": {},
   "outputs": [],
   "source": [
    "low = 0\n",
    "hight = 9"
   ]
  },
  {
   "cell_type": "code",
   "execution_count": 1,
   "metadata": {},
   "outputs": [],
   "source": [
    "class BRV:\n",
    "    def __init__(self):\n",
    "        self.seed = 1\n",
    "        self.beta = 65539\n",
    "        self.M = 2 ** 31\n",
    "        \n",
    "    def __call__(self):\n",
    "        self.seed = (self.seed * self.beta) % self.M\n",
    "        return self.seed / self.M"
   ]
  },
  {
   "cell_type": "code",
   "execution_count": 63,
   "metadata": {},
   "outputs": [],
   "source": [
    "class URV(BRV):\n",
    "    def __init__(self, a, b):\n",
    "        super().__init__()\n",
    "        self.a = a\n",
    "        self.b = b\n",
    "        \n",
    "    def __call__(self):\n",
    "        return super().__call__() * (self.b - self.a) + self.a"
   ]
  },
  {
   "cell_type": "code",
   "execution_count": 120,
   "metadata": {},
   "outputs": [],
   "source": [
    "def montecarlo(func, samples=10000):\n",
    "    rv = URV(low, hight)\n",
    "    answer = 0\n",
    "    for _ in range(samples):\n",
    "        answer += func(rv())\n",
    "    return answer / samples * (hight - low)"
   ]
  },
  {
   "cell_type": "code",
   "execution_count": 121,
   "metadata": {},
   "outputs": [],
   "source": [
    "def func(x):\n",
    "    return (np.cos(x) ** 2) / (1 + x ** 2)"
   ]
  },
  {
   "cell_type": "code",
   "execution_count": 122,
   "metadata": {},
   "outputs": [],
   "source": [
    "def symmetry_func(x):\n",
    "    return (func(x) + func(low + hight - x)) / 2"
   ]
  },
  {
   "cell_type": "markdown",
   "metadata": {},
   "source": [
    "# Результаты"
   ]
  },
  {
   "cell_type": "code",
   "execution_count": 123,
   "metadata": {
    "scrolled": true
   },
   "outputs": [
    {
     "name": "stdout",
     "output_type": "stream",
     "text": [
      "simple = 0.8269383491590565\n",
      "symmetry = 0.8289740685498264\n"
     ]
    }
   ],
   "source": [
    "print(\"simple = {}\".format(montecarlo(func)))\n",
    "print(\"symmetry = {}\".format(montecarlo(symmetry_func)))"
   ]
  },
  {
   "cell_type": "markdown",
   "metadata": {},
   "source": [
    "# Вывод"
   ]
  },
  {
   "cell_type": "markdown",
   "metadata": {},
   "source": [
    "Сравним дисперсии двух полученных оценок:\n",
    "\n",
    "$\\mathbb{D} \\{\\xi\\} = \\mathbb{M}\\{\\xi^2\\} - \\left(\\mathbb{M}\\{\\xi\\}\\right)^2$ \n",
    "\n",
    "$\\xi_1 = \\frac{\\cos^2 x}{1 + x^2}$\n",
    "\n",
    "$\\xi_2 = \\frac{1}{2}\\left(\\frac{\\cos^2 x}{1 + x^2} + \\frac{\\cos^2 (9 - x)}{1 + (9 - x)^2}\\right)$\n",
    "\n",
    "$x = \\mathbb{U}(0, 9)$\n",
    "\n",
    "$\\mathbb{M}\\{\\xi_1\\} = \\int\\limits_0^9\\frac{\\cos^2 x}{1 + x^2}dx$\n",
    "\n",
    "$\\mathbb{M}\\{\\xi_2\\} = \\int\\limits_0^9\\frac{1}{2}\\left(\\frac{\\cos^2 x}{1 + x^2} + \\frac{\\cos^2 (9 - x)}{1 + (9 - x)^2}\\right)dx = \\frac{1}{2}\\int\\limits_0^9\\frac{\\cos^2 x}{1 + x^2}dx + \\frac{1}{2}\\int\\limits_0^9\\frac{\\cos^2 (9 - x)}{1 + (9 - x)^2}dx = \\frac{1}{2}\\int\\limits_0^9\\frac{\\cos^2 x}{1 + x^2}dx - \\frac{1}{2}\\int\\limits_9^0\\frac{\\cos^2 x}{1 + x^2}dx = \\int\\limits_0^9\\frac{\\cos^2 x}{1 + x^2}dx$\n",
    "\n",
    "$\\mathbb{M}\\{\\xi_1\\} = \\mathbb{M}\\{\\xi_2\\}$\n",
    "\n",
    "$\\mathbb{M}\\{\\xi_1^2\\} = \\int\\limits_0^9\\frac{\\cos^4 x}{(1 + x^2)^2}dx$\n",
    "\n",
    "$\\mathbb{M}\\{\\xi_2^2\\} = \\frac{1}{4}\\int\\limits_0^9\\left(\\frac{\\cos^2 x}{1 + x^2} + \\frac{\\cos^2 (9 - x)}{1 + (9 - x)^2}\\right)^2dx = \\frac{1}{4}\\int\\limits_0^9\\frac{\\cos^4 x}{(1 + x^2)^2}dx + \\frac{1}{2}\\int\\limits_0^9\\frac{\\cos^2 x}{1 + x^2}\\frac{\\cos^2 (9 - x)}{1 + (9 - x)^2}dx + \\frac{1}{4}\\int\\limits_0^9\\frac{\\cos^4 (9 - x)}{(1 + (9 - x)^2)^2}dx = \\frac{1}{2}\\mathbb{M}\\{\\xi_1^2\\} + \\frac{1}{2}\\int\\limits_0^9\\frac{\\cos^2 x}{1 + x^2}\\frac{\\cos^2 (9 - x)}{1 + (9 - x)^2}dx \\leq$\n",
    "\n",
    "$ \\leq \\frac{1}{2}\\mathbb{M}\\{\\xi_1^2\\} + \\frac{1}{4}\\int\\limits_0^9\\frac{\\cos^4 x}{(1 + x^2)^2}dx + \\frac{1}{4}\\int\\limits_0^9\\frac{\\cos^4 (9 - x)}{(1 + (9 - x)^2)^2}dx = \\mathbb{M}\\{\\xi_1^2\\}$\n",
    "\n",
    "$\\mathbb{M}\\{\\xi_1^2\\} \\geq \\mathbb{M}\\{\\xi_2^2\\}$\n",
    "\n",
    "$\\mathbb{D}\\{\\xi_1\\} \\geq \\mathbb{D}\\{\\xi_2\\}$\n",
    "\n",
    "Однако стоит отметить, что несмотря на то, что дисперсия при использовании метода симметризации подынтегральной функции меньше, что при использовании простейшего метода Монте-Карло, трудоёмкость вычислений возрастает из-за того, что на каждой итерации нужно вычислить значение функции в двуъ точках, а не в одной."
   ]
  }
 ],
 "metadata": {
  "kernelspec": {
   "display_name": "Python 3",
   "language": "python",
   "name": "python3"
  },
  "language_info": {
   "codemirror_mode": {
    "name": "ipython",
    "version": 3
   },
   "file_extension": ".py",
   "mimetype": "text/x-python",
   "name": "python",
   "nbconvert_exporter": "python",
   "pygments_lexer": "ipython3",
   "version": "3.7.1"
  }
 },
 "nbformat": 4,
 "nbformat_minor": 2
}
