{
 "cells": [
  {
   "cell_type": "markdown",
   "metadata": {},
   "source": [
    "# Рак Алексей, 4 курс, 3 группа"
   ]
  },
  {
   "cell_type": "markdown",
   "metadata": {},
   "source": [
    "# Условие №4, стр.52\n",
    "\n",
    "Контролируемый признак ξ  распределен по закону N_1(μσ2). Множество допустимых значений признака ограничено полем допуска [a,b] (μ=(a+b)/2).Оценить вероятность выхода за поле допуска по n=1000 реализациям CB ξ. Рассмотреть случаи:\n",
    "\n",
    "        a) Увеличение степени рассеяния.a=57, b=63, σ=1,2,3\n",
    "        b) Смещение средних a=57, b=63.σ=1, μ=58,65"
   ]
  },
  {
   "cell_type": "markdown",
   "metadata": {},
   "source": [
    "# Ход работы\n",
    "Ход работы. Смоделируем базовую случайную величину α с использованием мультипликативного конгруэнтного метода:\n",
    "\n",
    "$\\alpha_i = \\alpha_i ' / M$\n",
    "\n",
    "$\\alpha_i ' = \\beta \\alpha\\_{i - 1} ' mod M$\n",
    "\n",
    "$i = 1, 2, ...$\n",
    "\n",
    "$\\alpha_0 ' = \\beta = 65539$\n",
    "\n",
    "$M = 2147483648$\n",
    "\n",
    "Нормальная СВ  моделируется с помощью моделирования случайно базовой величины:\n",
    "$\\eta = \\sqrt{-2 \\ln a_1} \\cos (2\\pi a_2)$"
   ]
  },
  {
   "cell_type": "markdown",
   "metadata": {},
   "source": [
    "# Реализация"
   ]
  },
  {
   "cell_type": "code",
   "execution_count": 3,
   "metadata": {},
   "outputs": [],
   "source": [
    "import numpy as np\n",
    "from scipy.special import erfinv\n",
    "\n",
    "from matplotlib import pyplot as plt"
   ]
  },
  {
   "cell_type": "code",
   "execution_count": 4,
   "metadata": {},
   "outputs": [],
   "source": [
    "class BRV:\n",
    "    def __init__(self, seed=65539):\n",
    "        self.alpha = seed\n",
    "        self.beta = 65539\n",
    "        self.M = 2147483648\n",
    "        \n",
    "    def __call__(self):\n",
    "        self.alpha = (self.alpha * self.beta) % self.M\n",
    "        return self.alpha / self.M"
   ]
  },
  {
   "cell_type": "code",
   "execution_count": 5,
   "metadata": {},
   "outputs": [],
   "source": [
    "class NRV(BRV):\n",
    "    def __init__(self, mu, sigma, seed=65539):\n",
    "        super(NRV, self).__init__(seed)\n",
    "        self.mu = mu\n",
    "        self.sigma = sigma\n",
    "        \n",
    "    def __call__(self):\n",
    "        brv = super(NRV, self).__call__()\n",
    "        return self.mu + self.sigma * np.sqrt(2) * erfinv(2 * brv - 1)"
   ]
  },
  {
   "cell_type": "code",
   "execution_count": 9,
   "metadata": {},
   "outputs": [],
   "source": [
    "def experiments(a, b, mu, sigma, n=1000, seed=65539):\n",
    "    count = 0\n",
    "    rand = NRV(mu, sigma)\n",
    "    for experiment in range(n):\n",
    "        if not a <= rand() <= b:\n",
    "            count += 1\n",
    "    return count / n"
   ]
  },
  {
   "cell_type": "code",
   "execution_count": 14,
   "metadata": {},
   "outputs": [
    {
     "name": "stdout",
     "output_type": "stream",
     "text": [
      "sigma = 1, prob = 0.0027311982178550177\n",
      "sigma = 2, prob = 0.13573597400021362\n",
      "sigma = 3, prob = 0.31779551106974474\n"
     ]
    }
   ],
   "source": [
    "for sigma in range(1, 4):\n",
    "    a = 57\n",
    "    b = 63\n",
    "    mu = (a + b) / 2\n",
    "    print(\"sigma = {}, prob = {}\".format(sigma, experiments(a, b, mu, sigma, 65539)))"
   ]
  },
  {
   "cell_type": "code",
   "execution_count": 15,
   "metadata": {},
   "outputs": [
    {
     "name": "stdout",
     "output_type": "stream",
     "text": [
      "mu = 58, prob = 0.15853156136041135\n",
      "mu = 65, prob = 0.9774180259082379\n"
     ]
    }
   ],
   "source": [
    "for mu in [58, 65]:\n",
    "    print(\"mu = {}, prob = {}\".format(mu, experiments(57, 63, mu, 1, 65539)))"
   ]
  },
  {
   "cell_type": "markdown",
   "metadata": {},
   "source": [
    "# Оценка результата."
   ]
  },
  {
   "cell_type": "markdown",
   "metadata": {},
   "source": [
    "Как видно, при увеличении степени рассеяния вероятность выйти за пределы заданного промежутка увеличивается, также при смещении среднего значения вероятность опять же увеличивается."
   ]
  }
 ],
 "metadata": {
  "kernelspec": {
   "display_name": "Python 3",
   "language": "python",
   "name": "python3"
  },
  "language_info": {
   "codemirror_mode": {
    "name": "ipython",
    "version": 3
   },
   "file_extension": ".py",
   "mimetype": "text/x-python",
   "name": "python",
   "nbconvert_exporter": "python",
   "pygments_lexer": "ipython3",
   "version": "3.7.1"
  }
 },
 "nbformat": 4,
 "nbformat_minor": 2
}
