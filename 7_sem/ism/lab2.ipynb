{
 "cells": [
  {
   "cell_type": "markdown",
   "metadata": {},
   "source": [
    "# Лабороторная работа 2.\n",
    "# Рак Алексей. Группа 3. Курс 4"
   ]
  },
  {
   "cell_type": "markdown",
   "metadata": {},
   "source": [
    "# Условие №6.8, стр.179\n",
    "По 1000 реализаций оценить характеристики наращенной суммы $С$: $C_{min}$, $C_{max}$, $E\\{C\\}$, $D\\{C\\}$, $P\\{13000 \\leq C \\leq 13200\\}$\n",
    "\n",
    "$n_1 = n_2 = 2$ года\n",
    "\n",
    "$P = 10000$\n",
    "\n",
    "$i_1 = R(9\\%, 10.2\\%)$\n",
    "\n",
    "$i_2 = Tr(8\\%, 12\\%; 9\\%, 10\\%)$\n",
    "\n",
    "$h_i = 2.6 + 0.4 i + \\epsilon_i$\n",
    "\n",
    "$\\epsilon_i = x + \\eta$\n",
    "\n",
    "$\\eta: P(\\eta = -0.1) = 0.1, P(\\eta = 0.1) = 0.2, P(\\eta = 0) = 0.7$"
   ]
  },
  {
   "cell_type": "markdown",
   "metadata": {},
   "source": [
    "# Ход работы\n",
    "\n",
    "Ход работы. Смоделируем базовую случайную величину α с использованием мультипликативного конгруэнтного метода:\n",
    "\n",
    "$\\alpha_i = \\alpha_i ' / M$\n",
    "\n",
    "$\\alpha_i ' = \\beta \\alpha\\_{i - 1} ' mod M$\n",
    "\n",
    "$i = 1, 2, ...$\n",
    "\n",
    "$\\alpha_0 ' = \\beta = 65539$\n",
    "\n",
    "$M = 2147483648$\n",
    "\n",
    "Методом обратной функции получим формулы для равномерного и трапециидального распределения:\n",
    "\n",
    "$R(a, b) = y (b - a) + a$\n",
    "\n",
    "$Tr(a, b, c, d) = \\begin{cases}\n",
    "a + \\sqrt{y (c - a) (b + d - a - c)}, y \\leq \\frac{c - a}{b + d - a - c}\\\\\n",
    "\\frac{y(b + d - a - c) + a + c}{2}, \\frac{c - a}{b + d - a - c} < y \\leq 1 - \\frac{b - d}{b + d - a - c}\\\\\n",
    "b - \\sqrt{(1 - y)(b - d)(b + d - a - c)}, 1 - \\frac{b - d}{b + d - a - c} < y\n",
    "\\end{cases}$\n",
    "\n",
    "Получим наращенную сумму без учёта инфляции по следующей формуле:\n",
    "$S = P(1 + i_1)^{n_1}(1 + i_2)^{n_2}$\n",
    "\n",
    "Посчитаем инфляцию по формуле:\n",
    "$j = \\prod\\limits_{i = 1}^{16}\\left(1 + \\frac{h_i}{100}\\right)$\n",
    "\n",
    "Итоговую наращенную сумму получим по формуле:\n",
    "$C = \\frac{S}{j}$"
   ]
  },
  {
   "cell_type": "markdown",
   "metadata": {},
   "source": [
    "# Реализация"
   ]
  },
  {
   "cell_type": "code",
   "execution_count": 99,
   "metadata": {},
   "outputs": [],
   "source": [
    "import numpy as np"
   ]
  },
  {
   "cell_type": "code",
   "execution_count": 2,
   "metadata": {},
   "outputs": [],
   "source": [
    "class BRV:\n",
    "    def __init__(self):\n",
    "        self.alpha = 65539\n",
    "        self.beta = 65539\n",
    "        self.M = 2147483648\n",
    "        \n",
    "    def __call__(self):\n",
    "        self.alpha = (self.alpha * self.beta) % self.M\n",
    "        return self.alpha / self.M"
   ]
  },
  {
   "cell_type": "code",
   "execution_count": 3,
   "metadata": {},
   "outputs": [],
   "source": [
    "class Uniform(BRV):\n",
    "    def __init__(self, a, b):\n",
    "        super().__init__()\n",
    "        self.a = a\n",
    "        self.b = b\n",
    "        \n",
    "    def __call__(self):\n",
    "        return super().__call__() * (self.b - self.a) + self.a"
   ]
  },
  {
   "cell_type": "code",
   "execution_count": 8,
   "metadata": {},
   "outputs": [],
   "source": [
    "class Tr(BRV):\n",
    "    def __init__(self, a, b, c, d):\n",
    "        super().__init__()\n",
    "        self.a = a\n",
    "        self.b = b\n",
    "        self.c = c\n",
    "        self.d = d\n",
    "        self.density = self.b + self.d - self.a - self.c\n",
    "        \n",
    "    def __call__(self):\n",
    "        brv = super().__call__()\n",
    "        if brv < (self.c - self.a) / self.density:\n",
    "            D = np.sqrt(brv * (self.c - self.a) * self.density)\n",
    "            return self.a + D\n",
    "        if brv > 1 - (self.b - self.d) / self.density:\n",
    "            D = np.sqrt((1 - brv) * (self.b - self.d) * self.density)\n",
    "            return self.b - D\n",
    "        return (brv * self.density + self.a + self.c) / 2 "
   ]
  },
  {
   "cell_type": "code",
   "execution_count": 16,
   "metadata": {},
   "outputs": [],
   "source": [
    "class Discrete(BRV):\n",
    "    def __init__(self, a, b, c, ap, bp):\n",
    "        super().__init__()\n",
    "        self.a = a\n",
    "        self.b = b\n",
    "        self.c = c\n",
    "        self.ap = ap\n",
    "        self.bp = bp + ap\n",
    "        \n",
    "    def __call__(self):\n",
    "        brv = super().__call__()\n",
    "        if brv < self.ap:\n",
    "            return self.a\n",
    "        if brv < self.bp:\n",
    "            return self.b\n",
    "        return self.c"
   ]
  },
  {
   "cell_type": "code",
   "execution_count": 102,
   "metadata": {},
   "outputs": [],
   "source": [
    "P = 10000\n",
    "n1 = 2\n",
    "n2 = 2\n",
    "random1 = Uniform(9, 10.2)\n",
    "random2 = Tr(8, 12, 9, 10)\n",
    "ksir = Discrete(-0.1, 0.1, 0, 0.1, 0.2)\n",
    "Cs = []\n",
    "for it in range(10000):\n",
    "    i1 = random1()\n",
    "    i2 = random2()\n",
    "    S = P * ((1 + i1 / 100) ** n1) * ((1 + i2 / 100) ** n2)\n",
    "    h = 3\n",
    "    ksi = 0\n",
    "    j = 1\n",
    "    for it2 in range(16):\n",
    "        j *= (1 + (h + ksi) / 100)\n",
    "        ksi += ksir()\n",
    "        h += 0.4\n",
    "    C = S / j\n",
    "    Cs.append(C)\n",
    "Cs = np.array(Cs)"
   ]
  },
  {
   "cell_type": "markdown",
   "metadata": {},
   "source": [
    "# Результаты"
   ]
  },
  {
   "cell_type": "code",
   "execution_count": 103,
   "metadata": {
    "scrolled": true
   },
   "outputs": [
    {
     "name": "stdout",
     "output_type": "stream",
     "text": [
      "C_min = 5145.892602521651\n",
      "C_max = 6169.934234991363\n",
      "E{C} = 5653.221838590885\n",
      "D{C} = 159.84844413271668\n",
      "P{13000 <= C <= 13200} = 0\n"
     ]
    }
   ],
   "source": [
    "print(\"C_min = {}\".format(Cs.min()))\n",
    "print(\"C_max = {}\".format(Cs.max()))\n",
    "print(\"E{C} =\", Cs.mean())\n",
    "print(\"D{C} =\", np.sqrt(np.mean((Cs - Cs.mean()) ** 2)))\n",
    "print(\"P{13000 <= C <= 13200} =\", np.sum(np.logical_and(13000 <= Cs, Cs <= 13200)))"
   ]
  },
  {
   "cell_type": "markdown",
   "metadata": {},
   "source": [
    "# Оценка результата\n",
    "\n",
    "\n",
    "При моделировании наращенной суммы с данными параметрами получили следующие результаты:\n",
    "- наименьшая наращенная сумма равна 5145\n",
    "- наибольшая наращенная сумма равна 6129\n",
    "- средняя наращенная сумма на 1000 реализаций равна 5655\n",
    "- дисперсия наращенной суммы на 1000 реализаций равна 159\n",
    "- ни при одной из 1000 реализаций наращенная сумма не попала в промежуток $[13000, 13200]$"
   ]
  }
 ],
 "metadata": {
  "kernelspec": {
   "display_name": "Python 3",
   "language": "python3",
   "name": "python3"
  },
  "language_info": {
   "codemirror_mode": {
    "name": "ipython",
    "version": 3
   },
   "file_extension": ".py",
   "mimetype": "text/x-python",
   "name": "python",
   "nbconvert_exporter": "python",
   "pygments_lexer": "ipython3",
   "version": "3.6.7"
  }
 },
 "nbformat": 4,
 "nbformat_minor": 2
}
